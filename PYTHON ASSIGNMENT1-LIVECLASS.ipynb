{
 "cells": [
  {
   "cell_type": "markdown",
   "id": "ab2bb966",
   "metadata": {},
   "source": [
    "# Python Basic If-else/while/for"
   ]
  },
  {
   "cell_type": "markdown",
   "id": "729993ca",
   "metadata": {},
   "source": [
    "# WAP to accept two numbers from the user and display their sum"
   ]
  },
  {
   "cell_type": "code",
   "execution_count": 32,
   "id": "8ea644ae",
   "metadata": {},
   "outputs": [
    {
     "name": "stdout",
     "output_type": "stream",
     "text": [
      "Enter first number:20\n",
      "Enter second number:30\n",
      "Their sum is 50\n"
     ]
    }
   ],
   "source": [
    "num1= int(input(\"Enter first number:\"))\n",
    "num2= int(input(\"Enter second number:\"))\n",
    "sum = num1 + num2\n",
    "print(\"Their sum is\", sum)"
   ]
  },
  {
   "cell_type": "markdown",
   "id": "9f84a788",
   "metadata": {},
   "source": [
    "# WAP to accept radius of a Circle from the user and calculate area and circumference"
   ]
  },
  {
   "cell_type": "code",
   "execution_count": 33,
   "id": "bf8a0c9a",
   "metadata": {},
   "outputs": [
    {
     "name": "stdout",
     "output_type": "stream",
     "text": [
      "Enter radius5\n",
      "The area of circle is:  78.5\n",
      "The circumference of circle is:  31.400000000000002\n"
     ]
    }
   ],
   "source": [
    "radius= float(input(\"Enter radius\"))\n",
    "area= 3.14*radius**2\n",
    "circumference= 2*3.14*radius\n",
    "print(\"The area of circle is: \", area)\n",
    "print(\"The circumference of circle is: \", circumference)"
   ]
  },
  {
   "cell_type": "markdown",
   "id": "ebe6005a",
   "metadata": {},
   "source": [
    "# WAP to accept roll number , grade and percentage as input from the user and display it back"
   ]
  },
  {
   "cell_type": "code",
   "execution_count": 35,
   "id": "578252d1",
   "metadata": {},
   "outputs": [
    {
     "name": "stdout",
     "output_type": "stream",
     "text": [
      "Enter roll_number, grade, percentage: 23 A 67\n",
      "Roll_number is: 23\n",
      "Grade is: A\n",
      "Percentage is: 67\n"
     ]
    }
   ],
   "source": [
    "a=input(\"Enter roll_number, grade, percentage: \")\n",
    "roll,grade,per = a.split()\n",
    "print(\"Roll_number is:\",roll)\n",
    "print(\"Grade is:\",grade)\n",
    "print(\"Percentage is:\",per)"
   ]
  },
  {
   "cell_type": "markdown",
   "id": "9a32f315",
   "metadata": {},
   "source": [
    "# Write a program that asks the user to enter his/her name and age. Print out a message , displaying the user’s name along with the year in which they will turn 100 years old."
   ]
  },
  {
   "cell_type": "code",
   "execution_count": 39,
   "id": "24f59edc",
   "metadata": {},
   "outputs": [
    {
     "name": "stdout",
     "output_type": "stream",
     "text": [
      "Enter the name:Mary\n",
      "Enter the age:25\n",
      "The name is  Mary and will turn 100 years old in 2097\n"
     ]
    }
   ],
   "source": [
    "name= input(\"Enter the name:\")\n",
    "age= int(input(\"Enter the age:\"))\n",
    "age100= 2022+(100-age)\n",
    "print(\"The name is \",name, \"and will turn 100 years old in\", age100)"
   ]
  },
  {
   "cell_type": "markdown",
   "id": "8160a9fa",
   "metadata": {},
   "source": [
    "# Write a program that asks the user to input 2 integers and adds them . Accept both the numbers in a single line only"
   ]
  },
  {
   "cell_type": "code",
   "execution_count": 41,
   "id": "8fff5ec3",
   "metadata": {},
   "outputs": [
    {
     "name": "stdout",
     "output_type": "stream",
     "text": [
      "Enter two numbers50 50\n",
      "The sum of numbers are: 100\n"
     ]
    }
   ],
   "source": [
    "a= input(\"Enter two numbers\")\n",
    "num1,num2=a.split()\n",
    "sum = int(num1)+int(num2)\n",
    "print(\"The sum of numbers are:\", sum)"
   ]
  },
  {
   "cell_type": "markdown",
   "id": "ccf5af44",
   "metadata": {},
   "source": [
    "# Write a Python program which accepts the user's first and last name and print them in reverse order with a space between them."
   ]
  },
  {
   "cell_type": "code",
   "execution_count": 43,
   "id": "f707abaa",
   "metadata": {},
   "outputs": [
    {
     "name": "stdout",
     "output_type": "stream",
     "text": [
      "Enter first name and last name:simson antony\n",
      "nosmis ynotna\n"
     ]
    }
   ],
   "source": [
    "name= input(\"Enter first name and last name:\")\n",
    "fname,lname=name.split()\n",
    "revfname= fname[::-1]\n",
    "revlname= lname[::-1]\n",
    "print(revfname, revlname)"
   ]
  },
  {
   "cell_type": "markdown",
   "id": "851f3bbf",
   "metadata": {},
   "source": [
    "# WAP to accept an integer from the user and check whether it is an even or odd "
   ]
  },
  {
   "cell_type": "code",
   "execution_count": 47,
   "id": "408d63cd",
   "metadata": {},
   "outputs": [
    {
     "name": "stdout",
     "output_type": "stream",
     "text": [
      "Enter the number:65475647545\n",
      "The number is odd\n"
     ]
    }
   ],
   "source": [
    "num= int(input(\"Enter the number:\"))\n",
    "if num%2==0:\n",
    "    print(\"The number is even\")\n",
    "elif num%2!=0:\n",
    "    print(\"The number is odd\")\n",
    "else:\n",
    "    print(\"not correct\")\n"
   ]
  },
  {
   "cell_type": "markdown",
   "id": "fc629d11",
   "metadata": {},
   "source": [
    "# WAP to accept a character from the user and check whether it is a capital letter or small letter. Assume user will input only alphabets"
   ]
  },
  {
   "cell_type": "code",
   "execution_count": 52,
   "id": "b21b7e73",
   "metadata": {},
   "outputs": [
    {
     "name": "stdout",
     "output_type": "stream",
     "text": [
      "Enter the letter:MARY\n",
      "It is capital letter\n"
     ]
    }
   ],
   "source": [
    "letter= input(\"Enter the letter:\")\n",
    "if letter==letter.lower():\n",
    "    print(\"It is small letter\")\n",
    "elif letter==letter.upper():\n",
    "    print(\"It is capital letter\")\n",
    "else:\n",
    "    print(\"out\")"
   ]
  },
  {
   "cell_type": "code",
   "execution_count": 55,
   "id": "5a80f996",
   "metadata": {},
   "outputs": [
    {
     "name": "stdout",
     "output_type": "stream",
     "text": [
      "Enter the charecter:d\n",
      "The charecter is small\n"
     ]
    }
   ],
   "source": [
    "l=input(\"Enter the charecter:\")\n",
    "ch=l[0]\n",
    "if 'A'<=ch<='Z':\n",
    "    print(\"The charecter is capital\")\n",
    "elif 'a'<=ch<='z':\n",
    "    print(\"The charecter is small\")\n",
    "else:\n",
    "    print(\"It is some other charecter\")"
   ]
  },
  {
   "cell_type": "markdown",
   "id": "7510f5b7",
   "metadata": {},
   "source": [
    "# WAP to accept a character from the user and check whether it is a capital letter or small letter or a digit or some special symbol"
   ]
  },
  {
   "cell_type": "code",
   "execution_count": null,
   "id": "bc6a66c8",
   "metadata": {},
   "outputs": [],
   "source": [
    "l=input(\"Enter the charecter:\")\n",
    "ch=l[0]\n",
    "if 'A'<=ch<='Z':\n",
    "    print(\"The charecter is capital\")\n",
    "elif 'a'<=ch<='z':\n",
    "    print(\"The charecter is small\")\n",
    "elif '0'<=ch<='9':\n",
    "    print(\"The charecter is a digit\")\n",
    "else:\n",
    "    print(\"It is some other charecter\")\n",
    "    "
   ]
  },
  {
   "cell_type": "markdown",
   "id": "fe4ad987",
   "metadata": {},
   "source": [
    "# WAP to accept 3 integers from the user and without using any logical operator and cascading of relational operators , find out the greatest number amongst them"
   ]
  },
  {
   "cell_type": "code",
   "execution_count": 59,
   "id": "ca34da09",
   "metadata": {},
   "outputs": [
    {
     "name": "stdout",
     "output_type": "stream",
     "text": [
      "Enter the numbers:10 20 30\n",
      "The largest number is: 30\n"
     ]
    }
   ],
   "source": [
    "num=input(\"Enter the numbers:\")\n",
    "a,b,c=num.split()\n",
    "if a>=b and a>=c:\n",
    "    print(\"The largest number is:\", a)\n",
    "elif b>=c and b<=a:\n",
    "    print(\"The largest number is:\", b)\n",
    "else:\n",
    "    print(\"The largest number is:\", c)"
   ]
  },
  {
   "cell_type": "markdown",
   "id": "0ef8c590",
   "metadata": {},
   "source": [
    "# WAP to accept a year from the user and check whether it is a leap year or not.\n"
   ]
  },
  {
   "cell_type": "code",
   "execution_count": 71,
   "id": "902dc26a",
   "metadata": {},
   "outputs": [
    {
     "name": "stdout",
     "output_type": "stream",
     "text": [
      "Enter the year:2000\n",
      "2000 is a leap year\n"
     ]
    }
   ],
   "source": [
    "year= int(input(\"Enter the year:\"))\n",
    "if( (year % 4) == 0):\n",
    "    if ( (year % 100 ) == 0):\n",
    "\n",
    "        if ( (year % 400) == 0):\n",
    "\n",
    "            print(year,\"is a leap year\")\n",
    "        else:\n",
    "\n",
    "            print(year,\"is not a leap year\")\n",
    "    else:\n",
    "\n",
    "        print(year,\"is a leap year\")\n",
    "\n",
    "else:\n",
    "\n",
    "    print(year,\"is not a leap year\")"
   ]
  },
  {
   "cell_type": "markdown",
   "id": "f05dee46",
   "metadata": {},
   "source": [
    "# Write a program to accept a string from the user and display it vertically but don’t display the vowels in it."
   ]
  },
  {
   "cell_type": "code",
   "execution_count": 83,
   "id": "96b9503e",
   "metadata": {},
   "outputs": [
    {
     "name": "stdout",
     "output_type": "stream",
     "text": [
      "Enter the string:simson\n",
      "s\n",
      "m\n",
      "s\n",
      "n\n"
     ]
    }
   ],
   "source": [
    "s= input(\"Enter the string:\")\n",
    "i=0\n",
    "while i<len(s):\n",
    "    if s[i] not in 'aeiou':\n",
    "        print(s[i])\n",
    "    i=i+1\n",
    "    \n"
   ]
  },
  {
   "cell_type": "markdown",
   "id": "694deb4f",
   "metadata": {},
   "source": [
    "# Write a program using a for loop to accept a string from the user and display it vertically but don’t display the vowels in it."
   ]
  },
  {
   "cell_type": "code",
   "execution_count": 117,
   "id": "61d435f5",
   "metadata": {},
   "outputs": [
    {
     "name": "stdout",
     "output_type": "stream",
     "text": [
      "Enter the string:simson\n",
      "s\n",
      "m\n",
      "s\n",
      "n\n"
     ]
    }
   ],
   "source": [
    "s= input(\"Enter the string:\")\n",
    "for i in range(len(s)):\n",
    "    if s[i]!='a'and s[i]!='e'and s[i]!='i' and s[i]!='o' and s[i]!='u':\n",
    "        print(s[i])"
   ]
  },
  {
   "cell_type": "markdown",
   "id": "47dc6f2d",
   "metadata": {},
   "source": [
    "# Write a program to accept an integer from the user and display the sum of all the numbers from 1 to that number."
   ]
  },
  {
   "cell_type": "code",
   "execution_count": 112,
   "id": "053b3598",
   "metadata": {},
   "outputs": [
    {
     "name": "stdout",
     "output_type": "stream",
     "text": [
      "Enter the number:10\n",
      "55\n"
     ]
    }
   ],
   "source": [
    "n= int(input(\"Enter the number:\"))\n",
    "sum=0\n",
    "for i in range(1,n+1):\n",
    "    sum= sum+i\n",
    "print(sum)"
   ]
  },
  {
   "cell_type": "markdown",
   "id": "9206eca5",
   "metadata": {},
   "source": [
    "# Write a program to accept an integer from the user and calculate its factorial"
   ]
  },
  {
   "cell_type": "code",
   "execution_count": 126,
   "id": "2eb47884",
   "metadata": {},
   "outputs": [
    {
     "name": "stdout",
     "output_type": "stream",
     "text": [
      "Enter the number:7\n",
      "5040\n"
     ]
    }
   ],
   "source": [
    "n= int(input(\"Enter the number:\"))\n",
    "factorial=1\n",
    "if n<0:\n",
    "    print(\"Factorial doesnot exist for negative numbers\")\n",
    "elif n==0:\n",
    "    print(\"Factorial for 0 is always 1\")\n",
    "else:\n",
    "    for i in range(1,n+1):\n",
    "        factorial=factorial*i\n",
    "    print(factorial)\n"
   ]
  },
  {
   "cell_type": "markdown",
   "id": "2c9486b0",
   "metadata": {},
   "source": [
    "# Write a program to print the following pattern \n",
    "***\n",
    "***\n",
    "***\n",
    "***"
   ]
  },
  {
   "cell_type": "code",
   "execution_count": 135,
   "id": "c6bb990b",
   "metadata": {},
   "outputs": [
    {
     "name": "stdout",
     "output_type": "stream",
     "text": [
      "***\n",
      "***\n",
      "***\n",
      "***\n"
     ]
    }
   ],
   "source": [
    "for i in range(1,5):\n",
    "    for j in range(1,4):\n",
    "        print(\"*\",end=\"\")\n",
    "    print()"
   ]
  },
  {
   "cell_type": "markdown",
   "id": "4c618e89",
   "metadata": {},
   "source": [
    "# Write a program to print the following pattern \n",
    "*\n",
    "**\n",
    "***\n",
    "****"
   ]
  },
  {
   "cell_type": "code",
   "execution_count": 142,
   "id": "e480f24b",
   "metadata": {},
   "outputs": [
    {
     "name": "stdout",
     "output_type": "stream",
     "text": [
      "*\n",
      "**\n",
      "***\n",
      "****\n"
     ]
    }
   ],
   "source": [
    "for i in range(1,5):\n",
    "    for j in range(1,i+1):\n",
    "        print(\"*\",end=\"\")\n",
    "    print()"
   ]
  },
  {
   "cell_type": "markdown",
   "id": "635151c1",
   "metadata": {},
   "source": [
    "# Write a program to print the following pattern\n",
    "****\n",
    "***\n",
    "**\n",
    "*"
   ]
  },
  {
   "cell_type": "code",
   "execution_count": 145,
   "id": "7bd2918b",
   "metadata": {},
   "outputs": [
    {
     "name": "stdout",
     "output_type": "stream",
     "text": [
      "****\n",
      "***\n",
      "**\n",
      "*\n"
     ]
    }
   ],
   "source": [
    "for i in range(4,0,-1):\n",
    "    for j in range(1,i+1):\n",
    "        print(\"*\",end=\"\")\n",
    "    print()"
   ]
  },
  {
   "cell_type": "code",
   "execution_count": null,
   "id": "2a1e47ce",
   "metadata": {},
   "outputs": [],
   "source": []
  }
 ],
 "metadata": {
  "kernelspec": {
   "display_name": "Python 3 (ipykernel)",
   "language": "python",
   "name": "python3"
  },
  "language_info": {
   "codemirror_mode": {
    "name": "ipython",
    "version": 3
   },
   "file_extension": ".py",
   "mimetype": "text/x-python",
   "name": "python",
   "nbconvert_exporter": "python",
   "pygments_lexer": "ipython3",
   "version": "3.9.7"
  }
 },
 "nbformat": 4,
 "nbformat_minor": 5
}
